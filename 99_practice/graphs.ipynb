{
 "cells": [
  {
   "cell_type": "markdown",
   "id": "689e7d46",
   "metadata": {},
   "source": [
    "# Python Graph practice on diamond data set\n",
    "for details visit 09 data visualization folder"
   ]
  },
  {
   "cell_type": "code",
   "execution_count": 16,
   "id": "ced2cd57",
   "metadata": {},
   "outputs": [
    {
     "name": "stdout",
     "output_type": "stream",
     "text": [
      "c:\\Users\\hurai\\AppData\\Local\\Programs\\Python\\Python310\\python.exe\n"
     ]
    }
   ],
   "source": [
    "import sys\n",
    "print(sys.executable)\n"
   ]
  },
  {
   "cell_type": "code",
   "execution_count": 17,
   "id": "d21129aa",
   "metadata": {},
   "outputs": [
    {
     "name": "stdout",
     "output_type": "stream",
     "text": [
      "test\n"
     ]
    }
   ],
   "source": [
    "print('test')\n",
    "\n",
    "import pandas as pd\n",
    "import numpy as np\n",
    "import seaborn as sns\n",
    "# %pip install plotl\n",
    "import plotly.express as px\n",
    "import matplotlib.pyplot as plt\n"
   ]
  },
  {
   "cell_type": "code",
   "execution_count": 18,
   "id": "d4792963",
   "metadata": {},
   "outputs": [
    {
     "data": {
      "text/html": [
       "<div>\n",
       "<style scoped>\n",
       "    .dataframe tbody tr th:only-of-type {\n",
       "        vertical-align: middle;\n",
       "    }\n",
       "\n",
       "    .dataframe tbody tr th {\n",
       "        vertical-align: top;\n",
       "    }\n",
       "\n",
       "    .dataframe thead th {\n",
       "        text-align: right;\n",
       "    }\n",
       "</style>\n",
       "<table border=\"1\" class=\"dataframe\">\n",
       "  <thead>\n",
       "    <tr style=\"text-align: right;\">\n",
       "      <th></th>\n",
       "      <th>carat</th>\n",
       "      <th>cut</th>\n",
       "      <th>color</th>\n",
       "      <th>clarity</th>\n",
       "      <th>depth</th>\n",
       "      <th>table</th>\n",
       "      <th>price</th>\n",
       "      <th>x</th>\n",
       "      <th>y</th>\n",
       "      <th>z</th>\n",
       "    </tr>\n",
       "  </thead>\n",
       "  <tbody>\n",
       "    <tr>\n",
       "      <th>0</th>\n",
       "      <td>0.23</td>\n",
       "      <td>Ideal</td>\n",
       "      <td>E</td>\n",
       "      <td>SI2</td>\n",
       "      <td>61.5</td>\n",
       "      <td>55.0</td>\n",
       "      <td>326</td>\n",
       "      <td>3.95</td>\n",
       "      <td>3.98</td>\n",
       "      <td>2.43</td>\n",
       "    </tr>\n",
       "    <tr>\n",
       "      <th>1</th>\n",
       "      <td>0.21</td>\n",
       "      <td>Premium</td>\n",
       "      <td>E</td>\n",
       "      <td>SI1</td>\n",
       "      <td>59.8</td>\n",
       "      <td>61.0</td>\n",
       "      <td>326</td>\n",
       "      <td>3.89</td>\n",
       "      <td>3.84</td>\n",
       "      <td>2.31</td>\n",
       "    </tr>\n",
       "    <tr>\n",
       "      <th>2</th>\n",
       "      <td>0.23</td>\n",
       "      <td>Good</td>\n",
       "      <td>E</td>\n",
       "      <td>VS1</td>\n",
       "      <td>56.9</td>\n",
       "      <td>65.0</td>\n",
       "      <td>327</td>\n",
       "      <td>4.05</td>\n",
       "      <td>4.07</td>\n",
       "      <td>2.31</td>\n",
       "    </tr>\n",
       "    <tr>\n",
       "      <th>3</th>\n",
       "      <td>0.29</td>\n",
       "      <td>Premium</td>\n",
       "      <td>I</td>\n",
       "      <td>VS2</td>\n",
       "      <td>62.4</td>\n",
       "      <td>58.0</td>\n",
       "      <td>334</td>\n",
       "      <td>4.20</td>\n",
       "      <td>4.23</td>\n",
       "      <td>2.63</td>\n",
       "    </tr>\n",
       "    <tr>\n",
       "      <th>4</th>\n",
       "      <td>0.31</td>\n",
       "      <td>Good</td>\n",
       "      <td>J</td>\n",
       "      <td>SI2</td>\n",
       "      <td>63.3</td>\n",
       "      <td>58.0</td>\n",
       "      <td>335</td>\n",
       "      <td>4.34</td>\n",
       "      <td>4.35</td>\n",
       "      <td>2.75</td>\n",
       "    </tr>\n",
       "  </tbody>\n",
       "</table>\n",
       "</div>"
      ],
      "text/plain": [
       "   carat      cut color clarity  depth  table  price     x     y     z\n",
       "0   0.23    Ideal     E     SI2   61.5   55.0    326  3.95  3.98  2.43\n",
       "1   0.21  Premium     E     SI1   59.8   61.0    326  3.89  3.84  2.31\n",
       "2   0.23     Good     E     VS1   56.9   65.0    327  4.05  4.07  2.31\n",
       "3   0.29  Premium     I     VS2   62.4   58.0    334  4.20  4.23  2.63\n",
       "4   0.31     Good     J     SI2   63.3   58.0    335  4.34  4.35  2.75"
      ]
     },
     "execution_count": 18,
     "metadata": {},
     "output_type": "execute_result"
    }
   ],
   "source": [
    "\n",
    "df = pd.read_csv(\"C:\\\\Users\\\\hurai\\\\Extras\\\\python-ka-chilla-2024\\\\00_datasets\\\\diamonds.csv\")\n",
    "df.head()"
   ]
  },
  {
   "cell_type": "code",
   "execution_count": 19,
   "id": "91c52d0f",
   "metadata": {},
   "outputs": [
    {
     "data": {
      "text/html": [
       "<div>\n",
       "<style scoped>\n",
       "    .dataframe tbody tr th:only-of-type {\n",
       "        vertical-align: middle;\n",
       "    }\n",
       "\n",
       "    .dataframe tbody tr th {\n",
       "        vertical-align: top;\n",
       "    }\n",
       "\n",
       "    .dataframe thead th {\n",
       "        text-align: right;\n",
       "    }\n",
       "</style>\n",
       "<table border=\"1\" class=\"dataframe\">\n",
       "  <thead>\n",
       "    <tr style=\"text-align: right;\">\n",
       "      <th></th>\n",
       "      <th>carat</th>\n",
       "      <th>depth</th>\n",
       "      <th>table</th>\n",
       "      <th>price</th>\n",
       "      <th>x</th>\n",
       "      <th>y</th>\n",
       "      <th>z</th>\n",
       "    </tr>\n",
       "  </thead>\n",
       "  <tbody>\n",
       "    <tr>\n",
       "      <th>count</th>\n",
       "      <td>53940.000000</td>\n",
       "      <td>53940.000000</td>\n",
       "      <td>53940.000000</td>\n",
       "      <td>53940.000000</td>\n",
       "      <td>53940.000000</td>\n",
       "      <td>53940.000000</td>\n",
       "      <td>53940.000000</td>\n",
       "    </tr>\n",
       "    <tr>\n",
       "      <th>mean</th>\n",
       "      <td>0.797940</td>\n",
       "      <td>61.749405</td>\n",
       "      <td>57.457184</td>\n",
       "      <td>3932.799722</td>\n",
       "      <td>5.731157</td>\n",
       "      <td>5.734526</td>\n",
       "      <td>3.538734</td>\n",
       "    </tr>\n",
       "    <tr>\n",
       "      <th>std</th>\n",
       "      <td>0.474011</td>\n",
       "      <td>1.432621</td>\n",
       "      <td>2.234491</td>\n",
       "      <td>3989.439738</td>\n",
       "      <td>1.121761</td>\n",
       "      <td>1.142135</td>\n",
       "      <td>0.705699</td>\n",
       "    </tr>\n",
       "    <tr>\n",
       "      <th>min</th>\n",
       "      <td>0.200000</td>\n",
       "      <td>43.000000</td>\n",
       "      <td>43.000000</td>\n",
       "      <td>326.000000</td>\n",
       "      <td>0.000000</td>\n",
       "      <td>0.000000</td>\n",
       "      <td>0.000000</td>\n",
       "    </tr>\n",
       "    <tr>\n",
       "      <th>25%</th>\n",
       "      <td>0.400000</td>\n",
       "      <td>61.000000</td>\n",
       "      <td>56.000000</td>\n",
       "      <td>950.000000</td>\n",
       "      <td>4.710000</td>\n",
       "      <td>4.720000</td>\n",
       "      <td>2.910000</td>\n",
       "    </tr>\n",
       "    <tr>\n",
       "      <th>50%</th>\n",
       "      <td>0.700000</td>\n",
       "      <td>61.800000</td>\n",
       "      <td>57.000000</td>\n",
       "      <td>2401.000000</td>\n",
       "      <td>5.700000</td>\n",
       "      <td>5.710000</td>\n",
       "      <td>3.530000</td>\n",
       "    </tr>\n",
       "    <tr>\n",
       "      <th>75%</th>\n",
       "      <td>1.040000</td>\n",
       "      <td>62.500000</td>\n",
       "      <td>59.000000</td>\n",
       "      <td>5324.250000</td>\n",
       "      <td>6.540000</td>\n",
       "      <td>6.540000</td>\n",
       "      <td>4.040000</td>\n",
       "    </tr>\n",
       "    <tr>\n",
       "      <th>max</th>\n",
       "      <td>5.010000</td>\n",
       "      <td>79.000000</td>\n",
       "      <td>95.000000</td>\n",
       "      <td>18823.000000</td>\n",
       "      <td>10.740000</td>\n",
       "      <td>58.900000</td>\n",
       "      <td>31.800000</td>\n",
       "    </tr>\n",
       "  </tbody>\n",
       "</table>\n",
       "</div>"
      ],
      "text/plain": [
       "              carat         depth         table         price             x  \\\n",
       "count  53940.000000  53940.000000  53940.000000  53940.000000  53940.000000   \n",
       "mean       0.797940     61.749405     57.457184   3932.799722      5.731157   \n",
       "std        0.474011      1.432621      2.234491   3989.439738      1.121761   \n",
       "min        0.200000     43.000000     43.000000    326.000000      0.000000   \n",
       "25%        0.400000     61.000000     56.000000    950.000000      4.710000   \n",
       "50%        0.700000     61.800000     57.000000   2401.000000      5.700000   \n",
       "75%        1.040000     62.500000     59.000000   5324.250000      6.540000   \n",
       "max        5.010000     79.000000     95.000000  18823.000000     10.740000   \n",
       "\n",
       "                  y             z  \n",
       "count  53940.000000  53940.000000  \n",
       "mean       5.734526      3.538734  \n",
       "std        1.142135      0.705699  \n",
       "min        0.000000      0.000000  \n",
       "25%        4.720000      2.910000  \n",
       "50%        5.710000      3.530000  \n",
       "75%        6.540000      4.040000  \n",
       "max       58.900000     31.800000  "
      ]
     },
     "execution_count": 19,
     "metadata": {},
     "output_type": "execute_result"
    }
   ],
   "source": [
    "df.describe()"
   ]
  },
  {
   "cell_type": "code",
   "execution_count": 20,
   "id": "15e931c5",
   "metadata": {},
   "outputs": [
    {
     "name": "stdout",
     "output_type": "stream",
     "text": [
      "carat      0\n",
      "cut        0\n",
      "color      0\n",
      "clarity    0\n",
      "depth      0\n",
      "table      0\n",
      "price      0\n",
      "x          0\n",
      "y          0\n",
      "z          0\n",
      "dtype: int64\n"
     ]
    }
   ],
   "source": [
    "print(df.isnull().sum())"
   ]
  },
  {
   "cell_type": "code",
   "execution_count": 21,
   "id": "47f82a9c",
   "metadata": {},
   "outputs": [
    {
     "data": {
      "text/plain": [
       "<Axes: xlabel='price', ylabel='Count'>"
      ]
     },
     "execution_count": 21,
     "metadata": {},
     "output_type": "execute_result"
    },
    {
     "data": {
      "image/png": "[encoded data removed]",
      "text/plain": [
       "<Figure size 640x480 with 1 Axes>"
      ]
     },
     "metadata": {},
     "output_type": "display_data"
    }
   ],
   "source": [
    "sns.histplot(df['price'], bins=30, kde=True)"
   ]
  },
  {
   "cell_type": "code",
   "execution_count": 22,
   "id": "b50a8736",
   "metadata": {},
   "outputs": [
    {
     "data": {
      "text/plain": [
       "<Axes: xlabel='carat', ylabel='price'>"
      ]
     },
     "execution_count": 22,
     "metadata": {},
     "output_type": "execute_result"
    },
    {
     "data": {
      "image/png": "[encoded data removed]",
      "text/plain": [
       "<Figure size 640x480 with 1 Axes>"
      ]
     },
     "metadata": {},
     "output_type": "display_data"
    }
   ],
   "source": [
    "sns.lineplot(x='carat', y='price', data=df, hue='cut')"
   ]
  },
  {
   "cell_type": "code",
   "execution_count": 23,
   "id": "3cd60b30",
   "metadata": {},
   "outputs": [
    {
     "data": {
      "text/plain": [
       "<Axes: ylabel='price'>"
      ]
     },
     "execution_count": 23,
     "metadata": {},
     "output_type": "execute_result"
    },
    {
     "data": {
      "image/png": "[encoded data removed]",
      "text/plain": [
       "<Figure size 640x480 with 1 Axes>"
      ]
     },
     "metadata": {},
     "output_type": "display_data"
    }
   ],
   "source": [
    "# Box plot of price by cut\n",
    "sns.boxplot(data=df, y='price',vert=True, hue='cut' )"
   ]
  },
  {
   "cell_type": "code",
   "execution_count": 24,
   "id": "1f2f9a5a",
   "metadata": {},
   "outputs": [],
   "source": [
    "# sns.pairplot(df, hue='cut' )    \n",
    "# plt.savefig('diamonds_analysis.png', dpi=300, bbox_inches='tight')\n",
    "# plt.show()\n"
   ]
  },
  {
   "cell_type": "code",
   "execution_count": 25,
   "id": "35c44f55",
   "metadata": {},
   "outputs": [],
   "source": [
    "import warnings\n",
    "warnings.filterwarnings(\"ignore\")"
   ]
  },
  {
   "cell_type": "code",
   "execution_count": 26,
   "id": "85f2bf7f",
   "metadata": {},
   "outputs": [
    {
     "name": "stdout",
     "output_type": "stream",
     "text": [
      "(5394, 10)\n"
     ]
    },
    {
     "data": {
      "text/html": [
       "<div>\n",
       "<style scoped>\n",
       "    .dataframe tbody tr th:only-of-type {\n",
       "        vertical-align: middle;\n",
       "    }\n",
       "\n",
       "    .dataframe tbody tr th {\n",
       "        vertical-align: top;\n",
       "    }\n",
       "\n",
       "    .dataframe thead th {\n",
       "        text-align: right;\n",
       "    }\n",
       "</style>\n",
       "<table border=\"1\" class=\"dataframe\">\n",
       "  <thead>\n",
       "    <tr style=\"text-align: right;\">\n",
       "      <th></th>\n",
       "      <th>carat</th>\n",
       "      <th>cut</th>\n",
       "      <th>color</th>\n",
       "      <th>clarity</th>\n",
       "      <th>depth</th>\n",
       "      <th>table</th>\n",
       "      <th>price</th>\n",
       "      <th>x</th>\n",
       "      <th>y</th>\n",
       "      <th>z</th>\n",
       "    </tr>\n",
       "  </thead>\n",
       "  <tbody>\n",
       "    <tr>\n",
       "      <th>0</th>\n",
       "      <td>2.10</td>\n",
       "      <td>Ideal</td>\n",
       "      <td>I</td>\n",
       "      <td>SI2</td>\n",
       "      <td>61.9</td>\n",
       "      <td>56.0</td>\n",
       "      <td>15511</td>\n",
       "      <td>8.20</td>\n",
       "      <td>8.22</td>\n",
       "      <td>5.08</td>\n",
       "    </tr>\n",
       "    <tr>\n",
       "      <th>1</th>\n",
       "      <td>1.70</td>\n",
       "      <td>Good</td>\n",
       "      <td>F</td>\n",
       "      <td>VS1</td>\n",
       "      <td>57.6</td>\n",
       "      <td>63.0</td>\n",
       "      <td>17330</td>\n",
       "      <td>7.86</td>\n",
       "      <td>7.81</td>\n",
       "      <td>4.51</td>\n",
       "    </tr>\n",
       "    <tr>\n",
       "      <th>2</th>\n",
       "      <td>1.09</td>\n",
       "      <td>Ideal</td>\n",
       "      <td>D</td>\n",
       "      <td>SI2</td>\n",
       "      <td>61.3</td>\n",
       "      <td>57.0</td>\n",
       "      <td>5267</td>\n",
       "      <td>6.64</td>\n",
       "      <td>6.67</td>\n",
       "      <td>4.08</td>\n",
       "    </tr>\n",
       "    <tr>\n",
       "      <th>3</th>\n",
       "      <td>1.01</td>\n",
       "      <td>Very Good</td>\n",
       "      <td>I</td>\n",
       "      <td>SI1</td>\n",
       "      <td>64.4</td>\n",
       "      <td>54.0</td>\n",
       "      <td>4805</td>\n",
       "      <td>6.31</td>\n",
       "      <td>6.40</td>\n",
       "      <td>4.09</td>\n",
       "    </tr>\n",
       "    <tr>\n",
       "      <th>4</th>\n",
       "      <td>1.01</td>\n",
       "      <td>Premium</td>\n",
       "      <td>H</td>\n",
       "      <td>SI1</td>\n",
       "      <td>61.9</td>\n",
       "      <td>59.0</td>\n",
       "      <td>4191</td>\n",
       "      <td>6.35</td>\n",
       "      <td>6.32</td>\n",
       "      <td>3.92</td>\n",
       "    </tr>\n",
       "  </tbody>\n",
       "</table>\n",
       "</div>"
      ],
      "text/plain": [
       "   carat        cut color clarity  depth  table  price     x     y     z\n",
       "0   2.10      Ideal     I     SI2   61.9   56.0  15511  8.20  8.22  5.08\n",
       "1   1.70       Good     F     VS1   57.6   63.0  17330  7.86  7.81  4.51\n",
       "2   1.09      Ideal     D     SI2   61.3   57.0   5267  6.64  6.67  4.08\n",
       "3   1.01  Very Good     I     SI1   64.4   54.0   4805  6.31  6.40  4.09\n",
       "4   1.01    Premium     H     SI1   61.9   59.0   4191  6.35  6.32  3.92"
      ]
     },
     "execution_count": 26,
     "metadata": {},
     "output_type": "execute_result"
    }
   ],
   "source": [
    "data_sample=df.sample(frac=0.1)  # Sample 10% of the data for faster plotting\n",
    "print(data_sample.shape)\n",
    "data_sample.reset_index(drop=True, inplace=True)\n",
    "data_sample.head()"
   ]
  },
  {
   "cell_type": "code",
   "execution_count": 27,
   "id": "cef0063d",
   "metadata": {},
   "outputs": [
    {
     "data": {
      "application/vnd.plotly.v1+json": {
       "config": {
        "plotlyServerURL": "https://plot.ly"
       },
       "data": [
        {
         "hovertemplate": "cut=Ideal<br>carat=%{x}<br>price=%{y}<br>depth=%{marker.size}<extra></extra>",
         "legendgroup": "Ideal",
         "marker": {
          "color": "#636efa",
          "size": {
           "bdata": "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",
           "dtype": "f8"
          },
          "sizemode": "area",
          "sizeref": 0.1765,
          "symbol": "circle"
         },
         "mode": "markers",
         "name": "Ideal",
         "showlegend": true,
         "type": "scattergl",
         "x": {
          "bdata": "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",
          "dtype": "f8"
         },
         "xaxis": "x",
         "y": {
          "bdata": "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",
          "dtype": "i2"
         },
         "yaxis": "y"
        },
        {
         "hovertemplate": "cut=Good<br>carat=%{x}<br>price=%{y}<br>depth=%{marker.size}<extra></extra>",
         "legendgroup": "Good",
         "marker": {
          "color": "#EF553B",
          "size": {
           "bdata": "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",
           "dtype": "f8"
          },
          "sizemode": "area",
          "sizeref": 0.1765,
          "symbol": "circle"
         },
         "mode": "markers",
         "name": "Good",
         "showlegend": true,
         "type": "scattergl",
         "x": {
          "bdata": "MzMzMzMz+z9xPQrXo3DtP83MzMzMzOw/ZmZmZmZm9j+kcD0K16PgPylcj8L1KPA/ZmZmZmZm5j/Xo3A9CtfTP83MzMzMzOw/pHA9Ctej8D8zMzMzMzPTPwAAAAAAAPA/KVyPwvUo+D/Xo3A9CtfTP3sUrkfhetQ/ZmZmZmZm5j/NzMzMzMzsPylcj8L1KPA/MzMzMzMz8z/NzMzMzMzsP7gehetRuOY/exSuR+F65D8AAAAAAADwP3E9CtejcM0/zczMzMzM7D89CtejcD3aPz0K16NwPdo/PQrXo3A96j/Xo3A9CtfTP/YoXI/C9dg/ZmZmZmZm5j9xPQrXo3DdPwAAAAAAAPg/uB6F61G45j9SuB6F61HgP2ZmZmZmZuY/MzMzMzMz0z8pXI/C9SjwP1K4HoXrUfg/16NwPQrX0z9SuB6F61H4P1K4HoXrUeA/KVyPwvUo+D+kcD0K16P4P83MzMzMzOw/PQrXo3A92j8AAAAAAADgPxSuR+F6FABAKVyPwvUo8D9SuB6F61HwP7gehetRuPI/MzMzMzMz0z/hehSuR+HaP3sUrkfhetQ/XI/C9Shc+z8pXI/C9SjwPwAAAAAAAABAcT0K16Nw7T8pXI/C9SjwP4XrUbgehfM/mpmZmZmZ2T9SuB6F61HwPylcj8L1KPA/AAAAAAAA8D8pXI/C9Sj4P+F6FK5H4fI/uB6F61G45j8AAAAAAADwP3sUrkfhevA/MzMzMzMz8z9SuB6F61HwPylcj8L1KPA/4XoUrkfh2j9mZmZmZmbmPwAAAAAAAPA/exSuR+F61D9mZmZmZmbmP6RwPQrXo/A/H4XrUbge7T97FK5H4Xr0P83MzMzMzOw/ZmZmZmZm5j/Xo3A9Ctf3PzMzMzMzM9M/MzMzMzMz0z/Xo3A9CtfTPylcj8L1KPA/CtejcD0K5z/Xo3A9CtfTP83MzMzMzOw/AAAAAAAA+D8K16NwPQrnPwAAAAAAAPg/ZmZmZmZm5j8AAAAAAADwP8P1KFyPwtU/AAAAAAAA+D9mZmZmZmbmPx+F61G4HuU/ZmZmZmZm5j/D9Shcj8L5Pylcj8L1KPA/PQrXo3A92j89CtejcD3aPwAAAAAAAABAZmZmZmZm5j+amZmZmZnhPxSuR+F6FN4/MzMzMzMz0z8zMzMzMzPzP2ZmZmZmZuY/KVyPwvUo8D8zMzMzMzPTPylcj8L1KPg/zczMzMzM7D9SuB6F61HgPzMzMzMzM9M/MzMzMzMz8z8zMzMzMzPTP5qZmZmZmdk/zczMzMzM7D8pXI/C9SjwP6RwPQrXo+A/uB6F61G45j9SuB6F61HwPwrXo3A9Cuc/pHA9Ctej4D8AAAAAAAD4P9ejcD0K19M/AAAAAAAA8D89CtejcD3aP3sUrkfhetQ/AAAAAAAA4D/NzMzMzMzsP83MzMzMzOw/uB6F61G48j9SuB6F61HgP1K4HoXrUfA/ZmZmZmZm1j8pXI/C9SjcP3E9CtejcOU/exSuR+F68D/Xo3A9CtfTPwAAAAAAAPA/AAAAAAAA4D8pXI/C9SjwP3E9CtejcO0/AAAAAAAAAEDNzMzMzMzsPwrXo3A9Cuc/16NwPQrX0z89CtejcD3aPylcj8L1KPA/zczMzMzM7D8fhetRuB7tP1K4HoXrUfA/KVyPwvUo7D/sUbgehevRPylcj8L1KPA/MzMzMzMz0z8AAAAAAADwP7gehetRuOY/uB6F61G45j9I4XoUrkfhP6RwPQrXo+A/mpmZmZmZ2T+4HoXrUbjmP9ejcD0K19M/SOF6FK5H6T8AAAAAAADgP83MzMzMzOw/CtejcD0K5z8pXI/C9SgCQDMzMzMzM9M/MzMzMzMz4z9mZmZmZmbWP3sUrkfhetQ/H4XrUbge1T9mZmZmZmbmP8P1KFyPwu0/FK5H4XoUAEAzMzMzMzPTP6RwPQrXo+A/hetRuB6F4z/NzMzMzMzsPylcj8L1KPA/mpmZmZmZ2T9mZmZmZmbmPylcj8L1KPA/PQrXo3A92j+PwvUoXI/iP83MzMzMzOw/exSuR+F61D8zMzMzMzP7Pylcj8L1KPg/cT0K16Nw8T9mZmZmZmbmPylcj8L1KPA/KVyPwvUo8D+4HoXrUbjmP1K4HoXrUfg/ZmZmZmZm5j/hehSuR+HaP65H4XoUruc/pHA9Ctej6D+4HoXrUbjmPxSuR+F6FABA9ihcj8L14D/sUbgehevhPwAAAAAAAPA/FK5H4XoUAEAAAAAAAADwP4/C9Shcj+I/KVyPwvUo8D+F61G4HoXjPwAAAAAAANA/zczMzMzM7D/NzMzMzMzwPz0K16NwPeI/FK5H4XoU7j/NzMzMzMzsPylcj8L1KPA/ZmZmZmZm1j8AAAAAAAAAQKRwPQrXo+A/UrgehetR8D9xPQrXo3DNP/YoXI/C9fA/AAAAAAAA8D97FK5H4XrUP2ZmZmZmZuY/UrgehetR6D9SuB6F61H4P9ejcD0K19M/AAAAAAAA4D/Xo3A9CtfTPwAAAAAAAOA/zczMzMzM7D/NzMzMzMwAQClcj8L1KPA/uB6F61G45j+amZmZmZn5Pylcj8L1KPg/KVyPwvUo8D9mZmZmZmbmP1yPwvUoXOc/SOF6FK5H4T8pXI/C9SjwPwAAAAAAAPA/4XoUrkfh4j8AAAAAAADgP9ejcD0K19M/PQrXo3A92j9mZmZmZmbmP83MzMzMzOw/j8L1KFyPAEC4HoXrUbjmP65H4XoUrtc/mpmZmZmZ2T9mZmZmZmbmP2ZmZmZmZtY/KVyPwvUo+D+kcD0K16PQPzMzMzMzM+M/j8L1KFyP4j8AAAAAAADoP2ZmZmZmZuY/exSuR+F6BED2KFyPwvXgPylcj8L1KPA/MzMzMzMz0z+kcD0K16PgP83MzMzMzOw/AAAAAAAA4D8AAAAAAADwPylcj8L1KABAFK5H4XoUAEAAAAAAAAD4P4/C9Shcj/I/uB6F61G45j+PwvUoXI/iP5qZmZmZmeE/AAAAAAAA+D+kcD0K16P0P65H4XoUrtc/KVyPwvUo+D8zMzMzMzPTP2ZmZmZmZuY/ZmZmZmZm5j/hehSuR+HaP2ZmZmZmZuY/AAAAAAAA8D9mZmZmZmbmP6RwPQrXo9A/AAAAAAAA8D9mZmZmZmbmPylcj8L1KPg/MzMzMzMz0z9SuB6F61HoP5qZmZmZmfE/zczMzMzM7D8AAAAAAADgP1K4HoXrUfA/w/UoXI/C+T+4HoXrUbjmP5qZmZmZmdk/hetRuB6F2z/NzMzMzMzsP2ZmZmZmZuY/AAAAAAAA4D+kcD0K16PoPwAAAAAAAPA/uB6F61G45j8AAAAAAAD4Px+F61G4Hu0/pHA9Ctej8D8UrkfhehQAQClcj8L1KPg/ZmZmZmZm5j8pXI/C9SjkPzMzMzMzM9M/KVyPwvUo8D8AAAAAAADwP83MzMzMzOw/AAAAAAAA4D/NzMzMzMzkPzMzMzMzM9M/mpmZmZmZ4T8AAAAAAADwP83MzMzMzOw/PQrXo3A9AEAAAAAAAADoP9ejcD0K1+M/SOF6FK5H4T9mZmZmZmbWPwAAAAAAAPA/zczMzMzM7D8AAAAAAADgP5qZmZmZmdk/AAAAAAAA4D9SuB6F61EAQD0K16NwPeo/zczMzMzM7D+amZmZmZnhP+xRuB6F6/k/cT0K16Nw5T8K16NwPQrnPylcj8L1KPA/KVyPwvUo8D8AAAAAAADgP/YoXI/C9eA/SOF6FK5H4T89CtejcD3iP1K4HoXrUfg/MzMzMzMz0z8AAAAAAADwPz0K16NwPeI/PQrXo3A92j8AAAAAAADgPylcj8L1KPA/9ihcj8L14D89CtejcD3aPzMzMzMzM9M/AAAAAAAA+D8pXI/C9SjwPzMzMzMzM/M/XI/C9Shc8z9SuB6F61HgPz0K16NwPdo/w/UoXI/C8T+4HoXrUbjmPzMzMzMzM9M/mpmZmZmZ2T97FK5H4XrUP83MzMzMzOw/zczMzMzM7D8AAAAAAADwPylcj8L1KPA/KVyPwvUo8D97FK5H4XrUP/YoXI/C9dg/FK5H4XoU5j/Xo3A9CtfTP3sUrkfhetQ/zczMzMzM7D89CtejcD3iPylcj8L1KPA/mpmZmZmZ2T/D9Shcj8LtP7gehetRuPI/pHA9Ctej4D9SuB6F61HgPylcj8L1KPg/KVyPwvUo8D/NzMzMzMzsP7gehetRuOY/AAAAAAAA+D8UrkfhehQAQArXo3A9Ctc/AAAAAAAA8D8pXI/C9SjwPylcj8L1KPA/w/UoXI/C1T9mZmZmZmbmPx+F61G4Hu0/AAAAAAAA4D/NzMzMzMzcPwAAAAAAAPg/ZmZmZmZm5j/NzMzMzMzsP5qZmZmZmdk/UrgehetR4D+4HoXrUbjOPylcj8L1KPA/PQrXo3A92j/Xo3A9CtfTPylcj8L1KPA/PQrXo3A92j8UrkfhehQEQClcj8L1KOQ/cT0K16NwzT+4HoXrUbjmP4XrUbgehfs/AAAAAAAAAEAAAAAAAADwP83MzMzMzOw/AAAAAAAA4D9mZmZmZmbmP83MzMzMzOw/CtejcD0K1z9I4XoUrkfhPylcj8L1KPA/H4XrUbge1T8AAAAAAAD4PwrXo3A9CgFAcT0K16Nw7T/Xo3A9CtfTP1K4HoXrUfg/exSuR+F68D8AAAAAAADwP1yPwvUoXAFAhetRuB6F2z9mZmZmZmbmP3sUrkfhetQ/mpmZmZmZ2T8zMzMzMzPzPzMzMzMzM9M/KVyPwvUo8D+PwvUoXI/qPwAAAAAAAOA/mpmZmZmZ9T8zMzMzMzPzPylcj8L1KPA/UrgehetR4D/NzMzMzMzcPwAAAAAAAOA/ZmZmZmZm5j/NzMzMzMzsPylcj8L1KPg/PQrXo3A92j+amZmZmZnZP6RwPQrXo+g/ZmZmZmZm5j9I4XoUrkfxP1K4HoXrUfA/AAAAAAAA8D8AAAAAAADgPwAAAAAAAOA/FK5H4XoUAkCuR+F6FK7XP2ZmZmZmZtY/exSuR+F61D9mZmZmZmbmP83MzMzMzOw/AAAAAAAA+D8pXI/C9SjwPzMzMzMzM9M/UrgehetR8D9mZmZmZmYEQArXo3A9Cu8/MzMzMzMz+z9I4XoUrkfxP1yPwvUoXPc/rkfhehSu5z9mZmZmZmbWP83MzMzMzOw/AAAAAAAA4D8AAAAAAADwP9ejcD0K19M/uB6F61G45j8pXI/C9SjwPx+F61G4HvE/hetRuB6F4z97FK5H4XrwPwrXo3A9Cu8/AAAAAAAA+D+amZmZmZnZPxSuR+F6FABAmpmZmZmZ6T/hehSuR+HaP1K4HoXrUfA/",
          "dtype": "f8"
         },
         "xaxis": "x",
         "y": {
          "bdata": "skNMDx8O/ywoBggSCQo7Ai8gBxg1AjQTqB7DArABMwpqD+wRMxJJDfMJrgj8DdgBVQ47A44E0Ak7As4CWQhBBPYlcQi/A2sJFQPOGUQjlALTIhgFDx6MERUQ2gMGBUwiQBJ5FTITNQKbBCYC2SsOF8ZC+Q/nEuwUrwKlES4P+xJdJkYSGgc1EeYQYBJkE5IQvAJvCG0PLAIfCv0ZVA/HFJIM2QsfFV0CpQEiAyESugsgAgQNexwECbAfMwngFbgCMyhhCQcIbgT7JEsQ8wKRBHkZ7gxYBsoEXwGuK2cMuhOjApIc6A+eBaoC+iDjAU0C0AvFFjoFwAjyEY4JOgbYIlgCEg/yAs0BQgeYD2EQJB/LBD8X+AG2AnsJoQ+LAuoRpwXfFRQQoEAfDuUIagI7A+EXfQ2ZB3Md/gngAbgO9AHxD/EKMAiCBGAEbgL1CboCKgn/BiUOjAqpNzUCPwZPApADCQIfCkkRaT6lAXIEFwXnDL0QsQO1CL8T4gL5B84N9AIsKkEcXBIPDLgOhxxLC0YbnQljA0kHiAgpCTAsRwbeBugMXUFYDvEGchEBB84Bdw3uDmoGPgy/DS8RTAKwKLMEuBbyAdwPEhcMAsIIeQmwPT0CQgQcBDsFqA9ZLywQggcCMUQ3EAzqCL0KZQYUEI0TBQiHBRID4wKkCZMHE0kICOoCMQKkCq0BNSAqAkcHGwaOChoIfzsCBRcQXQLcBDwOQgR8ElgzcBukJjwOAAxsBX4FeikaDDIDKC1dAvEIAQdGA4sK6hHmC9QBbBVZCAIiXQKSCkISqw6zBp4P0SPuBtoCwAKWDqEKTwbVB1APdQ7iJp0NwhCMSPciZwluBF0CNhBcHB4RwwNmCQgDtQ0GEHIPGj6JCzUFOgVUAsUSiQ9zBe4CfwVYOuoLJxCfBo0waQexB6AQQBO+BGcEiQpMBKomrAI4DhgHfAN/BRQbUwWHAgIEDipkF74U1xpqBH4CyBeyCr8B9QNNAsQOPBIADuMNcBDCAt4DNgfpATQClAtNBkYQsQNhDdYPEgZ+CKkNpBASEQsJ5R8VP/kBmBEvEdYRrgKDCbEImgYqBLYPfAtzDhADfgZ1AbsTlQMgAokRXgKrN9gEEgICCbs0oz+oDkoS5QMACDITmwNYBJ8UmgJ2F74+DA1xAqQiPhF8FaQ+nQKjB4UCrwJbFDUC7BEMCb8D6hWTFkMVYAWcBIIFXghuD4QpWAKPAlkJ0AnoEywP5BZlBJwFcT/ZAZ0CHAIAB7IIbCSIEYoBRR+3OVYQTUQwEksuEgnjAjIPbgXwEZgB9QmcDWUR+QY0DyQTvCgnAxM1jQhpAkIQ",
          "dtype": "i2"
         },
         "yaxis": "y"
        },
        {
         "hovertemplate": "cut=Very Good<br>carat=%{x}<br>price=%{y}<br>depth=%{marker.size}<extra></extra>",
         "legendgroup": "Very Good",
         "marker": {
          "color": "#00cc96",
          "size": {
           "bdata": "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",
           "dtype": "f8"
          },
          "sizemode": "area",
          "sizeref": 0.1765,
          "symbol": "circle"
         },
         "mode": "markers",
         "name": "Very Good",
         "showlegend": true,
         "type": "scattergl",
         "x": {
          "bdata": "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",
          "dtype": "f8"
         },
         "xaxis": "x",
         "y": {
          "bdata": "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",
          "dtype": "i2"
         },
         "yaxis": "y"
        },
        {
         "hovertemplate": "cut=Premium<br>carat=%{x}<br>price=%{y}<br>depth=%{marker.size}<extra></extra>",
         "legendgroup": "Premium",
         "marker": {
          "color": "#ab63fa",
          "size": {
           "bdata": "MzMzMzPzTkAAAAAAAEBPQAAAAAAAQE9AzczMzMwMT0DNzMzMzMxOQAAAAAAAwE5AmpmZmZlZT0AAAAAAAABNQAAAAAAAAE9AAAAAAAAAT0BmZmZmZmZOQDMzMzMzM09AMzMzMzOzTkBmZmZmZqZOQGZmZmZmpk1AzczMzMxMTkBmZmZmZmZOQAAAAAAAQE5AZmZmZmbmTUCamZmZmRlPQDMzMzMzM09AMzMzMzPzTkBmZmZmZuZOQAAAAAAAAE9AMzMzMzOzTUCamZmZmZlOQJqZmZmZmU5AzczMzMxMT0BmZmZmZqZOQGZmZmZmpk5AzczMzMyMTUAzMzMzMzNOQGZmZmZmJk9AMzMzMzMzTkCamZmZmZlNQJqZmZmZ2U5AZmZmZmamTkAzMzMzM/NNQJqZmZmZmU5AzczMzMwMT0DNzMzMzAxOQDMzMzMzs01AAAAAAACATkBmZmZmZiZNQJqZmZmZ2U5AmpmZmZkZT0CamZmZmdlOQDMzMzMzc09AmpmZmZnZTkCamZmZmRlPQGZmZmZm5k5AZmZmZmZmTUDNzMzMzExPQDMzMzMzs01AMzMzMzNzT0AAAAAAAEBPQDMzMzMzs05AAAAAAAAATkDNzMzMzAxOQGZmZmZmZk5AzczMzMxMTkAAAAAAAMBOQGZmZmZmZk1AZmZmZmYmT0AAAAAAAABPQJqZmZmZGU9AAAAAAACATkDNzMzMzAxPQM3MzMzMDE9AAAAAAAAAT0CamZmZmdlNQDMzMzMz801AmpmZmZmZTUAAAAAAAIBPQM3MzMzMDE5AAAAAAADATkBmZmZmZuZNQGZmZmZmpk1AmpmZmZkZTkAzMzMzM7NOQM3MzMzMjE5AAAAAAAAAT0AzMzMzM7NNQDMzMzMzc05AAAAAAADATUAzMzMzM3NPQJqZmZmZGU5AMzMzMzNzTkAAAAAAAIBOQAAAAAAAAE9AZmZmZmbmTkAzMzMzMzNPQDMzMzMzc05AAAAAAABAT0AzMzMzM/NOQJqZmZmZGU9AAAAAAAAAT0CamZmZmVlPQJqZmZmZWU9AmpmZmZmZTkAzMzMzMzNPQDMzMzMzc05AMzMzMzMzTkBmZmZmZiZPQM3MzMzMTE9AMzMzMzPzTkBmZmZmZuZOQDMzMzMzc05AAAAAAACATUDNzMzMzMxNQM3MzMzMjE5AmpmZmZlZT0DNzMzMzAxPQDMzMzMzs01AmpmZmZnZTkCamZmZmVlPQGZmZmZmZk9AzczMzMwMT0BmZmZmZuZOQM3MzMzMTE1AMzMzMzMzTUBmZmZmZmZPQM3MzMzMTE1AZmZmZmamTkAzMzMzM7NNQM3MzMzMzE5AzczMzMyMTkDNzMzMzMxNQGZmZmZmpk5AMzMzMzPzTUAzMzMzMzNPQM3MzMzMDE9AZmZmZmZmTkDNzMzMzAxNQAAAAAAAAE5AzczMzMxMT0AzMzMzM3NOQAAAAAAAgE5AmpmZmZkZTkAzMzMzM7NNQDMzMzMzc05AZmZmZmamTkBmZmZmZmZPQGZmZmZmpk5AMzMzMzOzTkBmZmZmZiZPQDMzMzMz805AzczMzMzMTkAAAAAAAIBPQAAAAAAAAE9AmpmZmZmZTUAAAAAAAEBPQAAAAAAAAE9AAAAAAABATkBmZmZmZmZOQDMzMzMzc09AMzMzMzMzTkCamZmZmRlPQDMzMzMzs05AAAAAAABATkAAAAAAAIBPQGZmZmZmZk9AAAAAAABAT0DNzMzMzMxOQGZmZmZmJk9AAAAAAABAT0AAAAAAAEBPQDMzMzMzc05AZmZmZmbmTkAzMzMzMzNPQAAAAAAAQE9AAAAAAADATUAAAAAAAIBOQJqZmZmZmU5AAAAAAADATkBmZmZmZmZOQGZmZmZmJk9AmpmZmZlZT0AAAAAAAMBOQM3MzMzMzE1AAAAAAACAT0BmZmZmZqZOQM3MzMzMTE5AAAAAAAAAT0AAAAAAAIBOQJqZmZmZGU9AzczMzMxMTkDNzMzMzMxNQM3MzMzMzE5AMzMzMzNzTkAAAAAAAABPQJqZmZmZGU1AZmZmZmbmTUAAAAAAAIBPQGZmZmZmJk9AmpmZmZmZTkBmZmZmZmZOQGZmZmZmpk5AmpmZmZlZTkDNzMzMzAxNQJqZmZmZ2U1AzczMzMzMTkBmZmZmZqZNQDMzMzMz801AAAAAAAAAT0CamZmZmZlNQM3MzMzMjE5AMzMzMzPzTkAzMzMzMzNPQDMzMzMzs05AzczMzMxMTkDNzMzMzMxOQDMzMzMzc09AzczMzMwMT0AzMzMzM3NOQAAAAAAAAE9AZmZmZmbmTkCamZmZmRlPQDMzMzMzM09AMzMzMzOzTkCamZmZmVlOQDMzMzMzM09AZmZmZmbmTkAzMzMzM3NPQAAAAAAAgE5AMzMzMzNzTkBmZmZmZqZNQAAAAAAAQE9AAAAAAAAATkAzMzMzMzNPQAAAAAAAgE1AAAAAAAAATkCamZmZmVlOQJqZmZmZmU5AZmZmZmZmTkAAAAAAAIBOQM3MzMzMjE5AmpmZmZnZTkDNzMzMzAxPQDMzMzMzM09AAAAAAACATkDNzMzMzExOQJqZmZmZWU9AmpmZmZkZT0AAAAAAAIBOQAAAAAAAQE9AAAAAAABAT0AAAAAAAMBOQJqZmZmZ2U1AMzMzMzMzTkAAAAAAAABPQAAAAAAAgE9AmpmZmZkZTkDNzMzMzMxNQDMzMzMzc09AZmZmZmYmTkCamZmZmVlOQDMzMzMz805AAAAAAACAT0AzMzMzMzNOQGZmZmZmZk9AmpmZmZnZTkAAAAAAAIBPQJqZmZmZGU9AmpmZmZnZTkBmZmZmZiZPQJqZmZmZmU5AMzMzMzOzTkCamZmZmRlPQM3MzMzMDE9AMzMzMzPzTUDNzMzMzIxOQJqZmZmZGU5AmpmZmZnZTUAzMzMzMzNPQGZmZmZmJk9AZmZmZmYmTkAzMzMzM/NNQGZmZmZmJk9AMzMzMzPzTkAzMzMzM/NNQJqZmZmZ2U1AZmZmZmbmTUBmZmZmZiZPQGZmZmZmZk9AzczMzMwMT0AzMzMzM7NOQAAAAAAAgE9AMzMzMzPzTUDNzMzMzIxOQM3MzMzMDE5AMzMzMzNzT0AzMzMzMzNOQAAAAAAAwE5AMzMzMzMzTUCamZmZmZlNQGZmZmZmJk9AZmZmZmZmTUCamZmZmVlOQAAAAAAAwE5AZmZmZmYmT0AzMzMzM3NPQM3MzMzMzE1AmpmZmZnZTkBmZmZmZiZPQAAAAAAAQE5AMzMzMzOzTkDNzMzMzAxPQM3MzMzMzE5AzczMzMwMTkBmZmZmZmZOQAAAAAAAgE9AAAAAAADATkAAAAAAAEBPQJqZmZmZGU9AZmZmZmamTkBmZmZmZuZOQGZmZmZm5k5AZmZmZmZmTkAAAAAAAMBOQM3MzMzMTE9AAAAAAADATkBmZmZmZmZOQM3MzMzMzE5AZmZmZmamTkAAAAAAAIBOQAAAAAAAQE1AmpmZmZkZT0AAAAAAAIBPQGZmZmZmZk9AAAAAAABATkAAAAAAAIBOQJqZmZmZmU5AmpmZmZmZTkAzMzMzM3NOQJqZmZmZGU5AZmZmZmamTkAzMzMzM/NNQGZmZmZmJk9AmpmZmZlZT0AAAAAAAMBOQAAAAAAAQE9AZmZmZmbmTkCamZmZmZlOQJqZmZmZmU5AMzMzMzNzT0DNzMzMzAxOQJqZmZmZWU5AzczMzMwMTUAAAAAAAEBPQDMzMzMz801AMzMzMzMzT0AzMzMzM3NOQDMzMzMzM09AzczMzMzMTkCamZmZmdlNQM3MzMzMDE9AzczMzMwMTkDNzMzMzIxOQGZmZmZm5k1AmpmZmZlZTkAAAAAAAIBPQGZmZmZmZk9AAAAAAAAATkAzMzMzMzNPQAAAAAAAwE1AAAAAAACATkCamZmZmZlNQM3MzMzMDE9AmpmZmZnZTUDNzMzMzMxNQGZmZmZmJk5AzczMzMyMTkCamZmZmVlOQM3MzMzMzE5AmpmZmZlZT0AzMzMzM/NOQJqZmZmZGU9AAAAAAACAT0DNzMzMzExNQGZmZmZmJk9AMzMzMzMzTkCamZmZmVlPQM3MzMzMDE5AMzMzMzOzTkCamZmZmVlNQJqZmZmZmU5AzczMzMwMT0DNzMzMzIxOQJqZmZmZmU5AZmZmZmamTkCamZmZmVlPQAAAAAAAAE5AMzMzMzPzTkDNzMzMzIxNQJqZmZmZWU9AMzMzMzMzTkAAAAAAAEBPQJqZmZmZGU5AmpmZmZlZTkDNzMzMzAxPQDMzMzMzM09AmpmZmZkZT0AAAAAAAEBNQM3MzMzMDE5AMzMzMzNzT0AzMzMzM7NNQM3MzMzMTE9AmpmZmZkZTkDNzMzMzExOQM3MzMzMTE9AzczMzMxMT0CamZmZmdlOQDMzMzMzc01AAAAAAACATkBmZmZmZiZOQDMzMzMzc05AZmZmZmYmTUBmZmZmZiZOQJqZmZmZGU5AzczMzMyMTkAzMzMzM3NOQM3MzMzMjE5AmpmZmZnZTkAzMzMzMzNPQGZmZmZmpk1AmpmZmZlZT0CamZmZmdlOQM3MzMzMzE5AMzMzMzNzTUDNzMzMzMxOQGZmZmZmJk5AAAAAAACAT0AzMzMzM3NNQM3MzMzMTE9AAAAAAABATkCamZmZmVlPQM3MzMzMzE1AAAAAAAAAT0DNzMzMzAxOQJqZmZmZGU9AmpmZmZnZTkAzMzMzMzNOQJqZmZmZGU9AAAAAAAAAT0BmZmZmZuZNQDMzMzMzM09AZmZmZmZmT0AzMzMzM3NOQAAAAAAAQE5AAAAAAAAATkCamZmZmRlOQDMzMzMzM09AAAAAAAAATkCamZmZmRlPQJqZmZmZWU5AzczMzMxMT0DNzMzMzIxOQAAAAAAAwE5AmpmZmZnZTkAAAAAAAMBNQAAAAAAAQE9AZmZmZmamTkBmZmZmZiZPQM3MzMzMzE5AAAAAAADATkAAAAAAAEBOQDMzMzMz805AmpmZmZkZTkDNzMzMzAxOQDMzMzMz805AAAAAAACATkDNzMzMzAxPQGZmZmZmJk5AZmZmZmamTkAzMzMzM3NPQAAAAAAAgE1AzczMzMwMT0AzMzMzM3NPQGZmZmZmJk5AmpmZmZnZTUDNzMzMzMxNQGZmZmZmJk9AmpmZmZkZT0AAAAAAAEBPQGZmZmZmpk5AAAAAAAAAT0AAAAAAAIBOQGZmZmZm5k5AmpmZmZlZT0BmZmZmZiZNQJqZmZmZGU5AZmZmZmbmTkBmZmZmZuZNQJqZmZmZ2U5AAAAAAAAAT0AAAAAAAEBPQM3MzMzMzE5AzczMzMxMT0AAAAAAAIBOQDMzMzMzM09AmpmZmZnZTkBmZmZmZiZPQDMzMzMzM05AmpmZmZmZTkAAAAAAAEBNQJqZmZmZGU9AmpmZmZlZT0CamZmZmRlPQDMzMzMzM05AZmZmZmZmTkCamZmZmRlPQAAAAAAAwE1AzczMzMwMT0DNzMzMzExPQDMzMzMzc09AmpmZmZkZT0AzMzMzM3NOQAAAAAAAAE5AAAAAAACATkBmZmZmZmZOQJqZmZmZWU5AAAAAAABATUDNzMzMzIxOQJqZmZmZGU5AzczMzMyMTkBmZmZmZmZNQM3MzMzMzE5AmpmZmZmZTUCamZmZmVlOQGZmZmZmJk9AmpmZmZlZT0AAAAAAAEBPQDMzMzMzM09AmpmZmZkZT0AzMzMzM/NOQJqZmZmZ2U5AmpmZmZkZT0BmZmZmZmZPQAAAAAAAgE9AMzMzMzPzTUCamZmZmRlPQJqZmZmZ2U5AAAAAAAAAT0DNzMzMzExOQAAAAAAAwE5AzczMzMxMTkBmZmZmZuZOQGZmZmZm5k1AmpmZmZnZTkDNzMzMzMxNQGZmZmZmZk5AmpmZmZnZTkAAAAAAAIBOQDMzMzMz805AAAAAAACATkDNzMzMzExOQGZmZmZmZk9AZmZmZmamTkBmZmZmZiZOQDMzMzMzs05AzczMzMwMTkAAAAAAAEBOQDMzMzMzM09AmpmZmZlZTkAAAAAAAABPQGZmZmZm5k5AAAAAAACATkAAAAAAAMBNQAAAAAAAAE9AAAAAAADATUAAAAAAAEBOQM3MzMzMDE5AzczMzMxMT0CamZmZmRlOQJqZmZmZmU5AAAAAAABAT0DNzMzMzAxPQDMzMzMzM01AAAAAAABAT0AzMzMzM7NOQGZmZmZm5k5AzczMzMzMTkAAAAAAAMBOQM3MzMzMzE1AZmZmZmbmTkAAAAAAAEBPQGZmZmZmZk9AzczMzMxMTkAzMzMzMzNPQDMzMzMz801AzczMzMzMTkCamZmZmZlOQJqZmZmZWU5AzczMzMzMTUBmZmZmZmZPQJqZmZmZWU9AMzMzMzMzT0AAAAAAAEBPQM3MzMzMTE1AAAAAAABAT0DNzMzMzExNQGZmZmZm5k5AzczMzMwMTkDNzMzMzMxNQJqZmZmZWU9AzczMzMyMTUCamZmZmVlPQM3MzMzMTE9AZmZmZmZmTUAAAAAAAEBPQJqZmZmZGU9AAAAAAACAT0DNzMzMzIxNQM3MzMzMjE5AZmZmZmZmTkCamZmZmZlOQDMzMzMz801AAAAAAAAATUCamZmZmRlOQJqZmZmZGU9AmpmZmZmZTkCamZmZmRlOQGZmZmZmpk5AZmZmZmamTkAAAAAAAMBOQAAAAAAAQE9AAAAAAABAT0AzMzMzMzNPQDMzMzMz805AMzMzMzMzT0DNzMzMzAxPQJqZmZmZWU9AZmZmZmYmT0AAAAAAAEBPQGZmZmZmZk5AzczMzMwMT0AzMzMzMzNPQAAAAAAAgE5AmpmZmZkZTkAAAAAAAEBPQM3MzMzMDE1AAAAAAACATkAzMzMzM/NOQAAAAAAAAE9AZmZmZmbmTkDNzMzMzMxOQDMzMzMz805AzczMzMwMT0CamZmZmRlPQDMzMzMz801AmpmZmZkZT0AzMzMzM3NOQJqZmZmZGU5AzczMzMwMT0DNzMzMzExPQGZmZmZmJk9AzczMzMzMTUDNzMzMzExOQAAAAAAAwE5AAAAAAAAAT0AzMzMzM7NOQJqZmZmZ2U1AmpmZmZlZT0AzMzMzM/NNQJqZmZmZWU9AAAAAAACAT0AAAAAAAABPQJqZmZmZGU9AZmZmZmbmTUDNzMzMzMxNQGZmZmZm5k5AMzMzMzPzTkCamZmZmRlOQM3MzMzMTE5AMzMzMzNzT0CamZmZmdlOQJqZmZmZWU9AzczMzMwMT0BmZmZmZuZOQJqZmZmZWU1AmpmZmZnZTUAAAAAAAMBOQGZmZmZm5k5AMzMzMzOzTkBmZmZmZiZPQGZmZmZmZk9AzczMzMzMTkAAAAAAAABOQAAAAAAAAE9AAAAAAABATUAzMzMzM/NOQGZmZmZmJk9AZmZmZmYmTkDNzMzMzExOQGZmZmZm5k1AZmZmZmZmTkBmZmZmZqZOQDMzMzMzc09AZmZmZmYmT0AzMzMzM7NOQAAAAAAAwE5AAAAAAADATkAAAAAAAABPQM3MzMzMTE9AMzMzMzPzTkAzMzMzM7NNQGZmZmZm5k5AZmZmZmbmTUBmZmZmZmZPQJqZmZmZ2U5AMzMzMzMzT0AzMzMzM7NNQM3MzMzMjE5AmpmZmZkZT0AAAAAAAIBPQGZmZmZmJk1AmpmZmZkZT0CamZmZmZlOQDMzMzMzc01AAAAAAADATkCamZmZmRlPQDMzMzMzs05AMzMzMzMzT0AAAAAAAEBNQDMzMzMzc05AZmZmZmZmTkCamZmZmVlPQDMzMzMzM05AZmZmZmamTUCamZmZmRlPQM3MzMzMTE5AmpmZmZmZTkAzMzMzM/NOQDMzMzMz801AzczMzMwMT0DNzMzMzAxPQDMzMzMzs01AzczMzMwMT0DNzMzMzMxNQAAAAAAAwE5AmpmZmZnZTkAAAAAAAIBPQDMzMzMzc09AZmZmZmZmTkDNzMzMzExPQJqZmZmZWU5AMzMzMzNzTkCamZmZmZlOQDMzMzMzM09AzczMzMyMTkAAAAAAAABPQAAAAAAAgE9AZmZmZmamTkDNzMzMzExOQM3MzMzMTE9AZmZmZmamTkAzMzMzMzNPQGZmZmZmZk1AAAAAAABATkAzMzMzM7NOQDMzMzMzM09AZmZmZmYmTUDNzMzMzMxOQDMzMzMzM09AMzMzMzPzTkAAAAAAAABPQM3MzMzMzE5AMzMzMzPzTkDNzMzMzMxOQDMzMzMzM09AMzMzMzOzTkDNzMzMzExPQM3MzMzMzE5AAAAAAAAAT0DNzMzMzExPQAAAAAAAgE1AMzMzMzOzTUAzMzMzM/NOQAAAAAAAAE9AmpmZmZlZTkAAAAAAAMBOQAAAAAAAgE5AzczMzMxMTkDNzMzMzExOQGZmZmZmZk9AZmZmZmamTkAAAAAAAABOQGZmZmZmpk5AAAAAAADATUAAAAAAAABPQDMzMzMzM05AmpmZmZkZT0CamZmZmdlOQDMzMzMzM05AzczMzMxMTkAAAAAAAMBOQAAAAAAAwE5AmpmZmZlZT0CamZmZmdlNQAAAAAAAgE5AAAAAAABAT0CamZmZmdlNQM3MzMzMjE5AzczMzMwMT0AzMzMzM3NPQJqZmZmZGU1AmpmZmZkZTkAzMzMzM3NOQAAAAAAAAE5AmpmZmZkZT0AzMzMzM3NPQDMzMzMz801AzczMzMyMTkBmZmZmZuZOQJqZmZmZGU9AMzMzMzOzTkAzMzMzMzNOQDMzMzMzM05AMzMzMzOzTkCamZmZmZlOQAAAAAAAwE5AmpmZmZmZTkAzMzMzMzNPQJqZmZmZ2U5AmpmZmZmZTkCamZmZmdlNQM3MzMzMjE5AZmZmZmYmTkDNzMzMzAxPQM3MzMzMzE5AzczMzMwMT0DNzMzMzExPQGZmZmZmZk9AzczMzMyMTUDNzMzMzExPQM3MzMzMjE5AMzMzMzOzTkAAAAAAAMBOQDMzMzMz805AzczMzMxMT0CamZmZmVlPQDMzMzMz805AMzMzMzNzT0CamZmZmVlOQDMzMzMzc09AAAAAAAAATkCamZmZmdlOQJqZmZmZGU9AZmZmZmbmTkCamZmZmZlNQGZmZmZmJk9AMzMzMzMzT0CamZmZmZlOQJqZmZmZ2U5AZmZmZmYmTkBmZmZmZqZOQAAAAAAAQE9AzczMzMwMT0BmZmZmZuZOQAAAAAAAwE5AAAAAAAAAT0AzMzMzM/NNQAAAAAAAAE9AZmZmZmamTUAzMzMzMzNPQGZmZmZm5k5AZmZmZmZmT0AzMzMzMzNPQJqZmZmZGU9AzczMzMxMT0CamZmZmdlNQDMzMzMzM09AMzMzMzMzTkDNzMzMzExPQDMzMzMzc09AAAAAAADATkBmZmZmZqZNQJqZmZmZWU5AMzMzMzMzT0AAAAAAAEBOQM3MzMzMTE9AzczMzMzMTkAzMzMzM3NPQM3MzMzMzE1AmpmZmZkZTkBmZmZmZiZPQDMzMzMzc05AzczMzMxMT0BmZmZmZmZPQM3MzMzMDE5AMzMzMzPzTkBmZmZmZqZOQJqZmZmZWU5AAAAAAABAT0AzMzMzM7NOQAAAAAAAgE1AAAAAAAAATkCamZmZmRlPQJqZmZmZ2U5AZmZmZmYmT0AAAAAAAEBOQDMzMzMz805AAAAAAACATkBmZmZmZmZPQAAAAAAAwE5AzczMzMxMT0BmZmZmZmZOQAAAAAAAwE1AmpmZmZkZT0CamZmZmRlPQJqZmZmZWU5AmpmZmZmZTkDNzMzMzAxPQDMzMzMz801AZmZmZmYmTkAAAAAAAEBPQAAAAAAAQE9AmpmZmZkZTkDNzMzMzAxPQDMzMzMzc05AmpmZmZkZT0BmZmZmZuZNQAAAAAAAAE9AAAAAAACATkCamZmZmVlOQJqZmZmZmU1AZmZmZmamTUAAAAAAAIBOQJqZmZmZGU9AAAAAAABATUCamZmZmVlOQGZmZmZmpk5AAAAAAAAAT0BmZmZmZqZOQAAAAAAAAE9AAAAAAAAATkBmZmZmZmZOQDMzMzMz801AZmZmZmZmT0BmZmZmZiZOQAAAAAAAQE5AzczMzMzMTUAzMzMzM7NOQAAAAAAAwE5AmpmZmZnZTkAzMzMzM3NPQDMzMzMzM05AzczMzMwMT0AAAAAAAABPQJqZmZmZmU5AzczMzMzMTkCamZmZmdlNQM3MzMzMzE5AzczMzMzMTUBmZmZmZiZOQJqZmZmZmU5AzczMzMyMTkCamZmZmRlOQDMzMzMzc09AmpmZmZkZTkDNzMzMzExPQGZmZmZmZk1AZmZmZmbmTkAzMzMzM3NPQAAAAAAAgE1AZmZmZmZmTkCamZmZmRlNQDMzMzMzs05AZmZmZmbmTUBmZmZmZiZPQM3MzMzMDE9AzczMzMwMT0AAAAAAAABPQAAAAAAAwE5AmpmZmZlZTkDNzMzMzExPQJqZmZmZ2U1AMzMzMzOzTkBmZmZmZmZPQDMzMzMzM05AZmZmZmamTkCamZmZmdlOQGZmZmZmZk9AZmZmZmZmTkBmZmZmZiZPQJqZmZmZWU9AzczMzMzMTkCamZmZmVlPQM3MzMzMDE9AZmZmZmamTkBmZmZmZmZOQGZmZmZmJk9AzczMzMzMTkAzMzMzM/NOQDMzMzMzs05AzczMzMwMT0CamZmZmdlOQJqZmZmZWU5AMzMzMzOzTkDNzMzMzIxOQJqZmZmZWU9AAAAAAADATUAAAAAAAEBOQGZmZmZm5k1AzczMzMwMT0AAAAAAAIBOQAAAAAAAgE5AMzMzMzOzTkDNzMzMzAxPQAAAAAAAAE5AAAAAAADATkAAAAAAAABPQAAAAAAAwE1AZmZmZmZmTUCamZmZmdlNQM3MzMzMDE5AMzMzMzMzTkAAAAAAAIBOQAAAAAAAAE5AzczMzMyMTkBmZmZmZmZOQGZmZmZmpk5AmpmZmZkZT0CamZmZmVlNQGZmZmZmZk5AMzMzMzOzTkCamZmZmVlOQGZmZmZmpk1AMzMzMzPzTUAzMzMzMzNPQJqZmZmZWU9AmpmZmZkZT0CamZmZmZlOQM3MzMzMzE5AmpmZmZkZT0CamZmZmRlPQAAAAAAAgE5AmpmZmZlZTkDNzMzMzIxOQDMzMzMzs05AZmZmZmbmTUCamZmZmVlOQAAAAAAAgE1AAAAAAACAT0AzMzMzM3NPQM3MzMzMTE9AAAAAAACATkDNzMzMzExNQDMzMzMzc05AAAAAAADATUDNzMzMzExPQAAAAAAAgE5AZmZmZmYmT0DNzMzMzMxNQJqZmZmZWU5AAAAAAADATkAAAAAAAMBOQAAAAAAAQE9AAAAAAACATkBmZmZmZuZOQM3MzMzMzE5AzczMzMxMT0AAAAAAAIBPQJqZmZmZWU9AzczMzMwMT0AzMzMzM7NOQAAAAAAAwE5AzczMzMxMT0AzMzMzM3NPQGZmZmZm5k1AzczMzMyMTkCamZmZmRlPQJqZmZmZWU9AAAAAAABATUAAAAAAAEBOQAAAAAAAgE5AMzMzMzMzT0DNzMzMzAxPQDMzMzMzc05AzczMzMzMTkCamZmZmdlOQDMzMzMz801AzczMzMyMTUAzMzMzM3NPQDMzMzMzM09AAAAAAABATkAAAAAAAIBNQGZmZmZmJk9AmpmZmZkZT0CamZmZmVlPQGZmZmZmJk9AMzMzMzNzT0AzMzMzMzNPQDMzMzMz805AzczMzMwMTkBmZmZmZmZOQAAAAAAAwE5AMzMzMzNzTkAzMzMzM7NNQJqZmZmZGU5AAAAAAACATkBmZmZmZmZNQDMzMzMzs05AZmZmZmamTkCamZmZmZlNQDMzMzMzM05AMzMzMzNzT0BmZmZmZmZOQJqZmZmZmU5AzczMzMwMT0DNzMzMzMxOQJqZmZmZGU1AAAAAAACATkCamZmZmVlOQGZmZmZmZk9AMzMzMzMzT0BmZmZmZuZOQGZmZmZm5k5AZmZmZmYmTkDNzMzMzAxPQM3MzMzMDE9AzczMzMxMT0AAAAAAAIBPQJqZmZmZGU5AZmZmZmbmTUAzMzMzM3NNQJqZmZmZWU9AAAAAAABAT0AAAAAAAIBPQDMzMzMzM09AAAAAAABATkBmZmZmZiZPQGZmZmZmJk9AMzMzMzNzTUDNzMzMzIxOQM3MzMzMDE9AZmZmZmamTkBmZmZmZmZPQGZmZmZm5k5AZmZmZmZmTkAAAAAAAIBPQGZmZmZm5k5AmpmZmZmZTUAzMzMzMzNNQJqZmZmZGU5AMzMzMzMzT0DNzMzMzMxOQAAAAAAAQE9AmpmZmZlZT0DNzMzMzExPQAAAAAAAAE9AZmZmZmYmTkBmZmZmZqZOQDMzMzMzM09AMzMzMzPzTUBmZmZmZmZNQGZmZmZmJk5AMzMzMzMzT0CamZmZmZlOQJqZmZmZGU9AAAAAAACATkAzMzMzM3NOQAAAAAAAAE5AMzMzMzMzT0BmZmZmZqZOQJqZmZmZWU9AzczMzMwMT0DNzMzMzExPQDMzMzMzs05AmpmZmZnZTUBmZmZmZqZOQAAAAAAAQE9AZmZmZmZmTkDNzMzMzIxOQGZmZmZmZk9AzczMzMxMTkCamZmZmRlPQAAAAAAAAE5AAAAAAACAT0AzMzMzM7NOQM3MzMzMjE5AAAAAAADATkAAAAAAAMBNQGZmZmZmZk1AMzMzMzNzTkDNzMzMzMxOQM3MzMzMDE9AzczMzMzMTUBmZmZmZmZPQJqZmZmZGU1AzczMzMwMT0DNzMzMzIxOQM3MzMzMDE9AZmZmZmbmTkAAAAAAAABPQAAAAAAAgE1AMzMzMzNzTUCamZmZmZlOQAAAAAAAAE9AMzMzMzNzT0AAAAAAAABPQAAAAAAAAE9AmpmZmZlZTkBmZmZmZuZNQAAAAAAAwE1AMzMzMzMzTkCamZmZmZlOQAAAAAAAwE1AmpmZmZkZT0BmZmZmZiZOQM3MzMzMzE1AZmZmZmYmT0CamZmZmRlPQAAAAAAAQE1AAAAAAABATkCamZmZmZlOQM3MzMzMjE5AMzMzMzPzTUBmZmZmZiZOQDMzMzMzc09AmpmZmZkZT0AAAAAAAEBPQAAAAAAAwE5AAAAAAADATkCamZmZmdlOQM3MzMzMTE9AZmZmZmbmTkBmZmZmZqZOQM3MzMzMjE1AZmZmZmZmTkBmZmZmZiZOQGZmZmZmpk1AMzMzMzNzT0AzMzMzM7NNQAAAAAAAgE5AAAAAAADATUDNzMzMzExPQM3MzMzMTE5AAAAAAAAAT0DNzMzMzAxPQGZmZmZmZk9AAAAAAAAATUBmZmZmZuZNQAAAAAAAAE9AmpmZmZmZTkDNzMzMzIxOQGZmZmZm5k5AmpmZmZkZT0AzMzMzM3NOQGZmZmZmJk9AzczMzMyMTkAAAAAAAEBOQDMzMzMz801AmpmZmZlZTkAzMzMzM3NOQAAAAAAAAE5AmpmZmZnZTkBmZmZmZmZPQDMzMzMz805AmpmZmZlZT0CamZmZmVlPQAAAAAAAQE5AAAAAAAAAT0CamZmZmVlOQM3MzMzMzE5AAAAAAACATkAzMzMzM3NPQDMzMzMz805AAAAAAACAT0BmZmZmZuZOQDMzMzMzs05AzczMzMxMT0DNzMzMzMxOQJqZmZmZmU5AAAAAAACATkBmZmZmZqZNQAAAAAAAgE5AzczMzMxMT0BmZmZmZmZPQGZmZmZmpk1AZmZmZmYmTkDNzMzMzExOQGZmZmZmpk5AAAAAAADATUBmZmZmZqZNQJqZmZmZWU5AmpmZmZlZT0AAAAAAAEBPQM3MzMzMjE5AmpmZmZkZT0CamZmZmdlOQM3MzMzMzE1AmpmZmZkZT0DNzMzMzAxNQM3MzMzMzE1AMzMzMzMzTkDNzMzMzIxOQM3MzMzMDE9AmpmZmZmZTkAzMzMzMzNPQDMzMzMzc05AAAAAAACATkAzMzMzM7NOQGZmZmZm5k5AmpmZmZkZTkCamZmZmZlOQJqZmZmZ2U1AmpmZmZmZTUCamZmZmRlNQGZmZmZm5k5AzczMzMwMT0BmZmZmZmZNQGZmZmZmZk5AAAAAAABATkAAAAAAAIBPQAAAAAAAQE5AZmZmZmamTkAAAAAAAIBOQAAAAAAAQE9AZmZmZmYmT0CamZmZmRlOQM3MzMzMTE9AMzMzMzMzTkCamZmZmZlOQAAAAAAAAE9AzczMzMyMTkDNzMzMzIxOQGZmZmZmZk5AmpmZmZmZTkAzMzMzMzNPQM3MzMzMjE5AzczMzMwMT0DNzMzMzMxOQDMzMzMzM01AzczMzMzMTkAzMzMzM3NPQGZmZmZm5k5AAAAAAABATkAzMzMzM/NOQDMzMzMzc05AZmZmZmamTkAAAAAAAEBNQJqZmZmZWU9AmpmZmZmZTkAAAAAAAABPQA==",
           "dtype": "f8"
          },
          "sizemode": "area",
          "sizeref": 0.1765,
          "symbol": "circle"
         },
         "mode": "markers",
         "name": "Premium",
         "showlegend": true,
         "type": "scattergl",
         "x": {
          "bdata": "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",
          "dtype": "f8"
         },
         "xaxis": "x",
         "y": {
          "bdata": "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",
          "dtype": "i2"
         },
         "yaxis": "y"
        },
        {
         "hovertemplate": "cut=Fair<br>carat=%{x}<br>price=%{y}<br>depth=%{marker.size}<extra></extra>",
         "legendgroup": "Fair",
         "marker": {
          "color": "#FFA15A",
          "size": {
           "bdata": "zczMzMxMUEAAAAAAAIBQQGZmZmZmJlBAmpmZmZmZUEAzMzMzM3NQQJqZmZmZGVBAMzMzMzPTUEDNzMzMzIxOQJqZmZmZGVBAAAAAAABAUEAAAAAAAIBMQAAAAAAAYFBAAAAAAACAUEBmZmZmZuZMQAAAAAAAIFFAZmZmZmamTEAzMzMzMzNQQM3MzMzMDExAmpmZmZlZUEAAAAAAACBQQAAAAAAAQFBAMzMzMzOTUEAAAAAAAIBMQGZmZmZmJlBAAAAAAABAUEBmZmZmZmZQQAAAAAAAIFBAmpmZmZmZUEAAAAAAAEBQQDMzMzMzM1BAzczMzMxMUEBmZmZmZiZMQDMzMzMzM1BAzczMzMwMTEAAAAAAAGBQQJqZmZmZGU1AMzMzMzNzUEDNzMzMzExQQAAAAAAAgFBAMzMzMzNzUEBmZmZmZsZQQAAAAAAAYFBAZmZmZmZGUEDNzMzMzCxQQM3MzMzMbFFAmpmZmZlZUEAzMzMzM3NMQGZmZmZmZkxAMzMzMzMTUEDNzMzMzCxQQDMzMzMzc09AmpmZmZl5UEDNzMzMzMxLQDMzMzMzk1BAzczMzMxsUEDNzMzMzExQQGZmZmZmplFAMzMzMzMzTkDNzMzMzGxQQJqZmZmZWVBAzczMzMzsUEBmZmZmZuZKQGZmZmZmZk1AZmZmZmamUECamZmZmdlQQAAAAAAAQFBAZmZmZmbmUEAAAAAAAEBNQGZmZmZmJlBAZmZmZmZGUEDNzMzMzExQQGZmZmZmRlBAMzMzMzMzUECamZmZmZlQQAAAAAAAYFBAZmZmZmYmUECamZmZmRlQQAAAAAAAYFBAZmZmZmYmUEAzMzMzM9NQQAAAAAAAwFBAMzMzMzNzUECamZmZmdlNQM3MzMzMbFBAAAAAAACAUEDNzMzMzIxLQJqZmZmZGVBAMzMzMzNTUEAAAAAAAABOQJqZmZmZOVBAAAAAAACAUEBmZmZmZqZQQDMzMzMzU1BAMzMzMzPTUEAAAAAAAIBQQDMzMzMzk1BAAAAAAACATkDNzMzMzExQQDMzMzMzs1BAmpmZmZn5UEBmZmZmZiZQQAAAAAAAAExAmpmZmZkZUECamZmZmXlQQDMzMzMzM0xAMzMzMzMzTEBmZmZmZiZQQM3MzMzMbFBAmpmZmZlZTUCamZmZmXlQQDMzMzMzc0xAmpmZmZkZUEDNzMzMzCxQQM3MzMzMLFBAAAAAAACASUAzMzMzM7NMQGZmZmZmJkxAAAAAAAAgUEAzMzMzMzNQQJqZmZmZGVBAAAAAAACATEBmZmZmZqZOQM3MzMzMzE5AAAAAAAAgUECamZmZmRlQQGZmZmZmJlBAAAAAAAAgUEBmZmZmZiZQQGZmZmZmJlBAZmZmZmZGUEAzMzMzM/NLQGZmZmZmRlBAAAAAAABAUEAzMzMzMxNQQGZmZmZmZlBAMzMzMzMTUUCamZmZmVlQQM3MzMzMTFBAzczMzMxMT0DNzMzMzCxQQM3MzMzMbFFAAAAAAACAUEAAAAAAAMBPQJqZmZmZOVBAAAAAAABgUEBmZmZmZqZLQDMzMzMzc1BAZmZmZmaGUUBmZmZmZiZQQJqZmZmZWVBAMzMzMzNTUEAzMzMzM7NQQAAAAAAAIFBAMzMzMzNzUEBmZmZmZqZLQM3MzMzMLFBAmpmZmZk5UECamZmZmZlKQM3MzMzMjFBAMzMzMzOzUECamZmZmXlQQM3MzMzMDFFAmpmZmZk5UECamZmZmdlQQGZmZmZmJlBAZmZmZmZGUEA=",
           "dtype": "f8"
          },
          "sizemode": "area",
          "sizeref": 0.1765,
          "symbol": "circle"
         },
         "mode": "markers",
         "name": "Fair",
         "showlegend": true,
         "type": "scattergl",
         "x": {
          "bdata": "AAAAAAAA8D/NzMzMzMzsPwAAAAAAAPA/ZmZmZmZm5j9mZmZmZmbmPx+F61G4Hu0/H4XrUbge/T8pXI/C9SjwP4/C9Shcj+o/uB6F61G45j97FK5H4XrkPylcj8L1KPg/AAAAAAAA8D8UrkfhehTmP2ZmZmZmZuY/mpmZmZmZ2T8AAAAAAAD4Pylcj8L1KPA/zczMzMzM7D8zMzMzMzPjPwAAAAAAAOA/PQrXo3A9AEC4HoXrUbjmPwAAAAAAAPA/ZmZmZmZm5j8AAAAAAAAAQGZmZmZmZuY/zczMzMzM7D9SuB6F61HwP2ZmZmZmZuY/cT0K16Nw+T8zMzMzMzPTP2ZmZmZmZuY/AAAAAAAA+D8zMzMzMzMBQGZmZmZmZuY/AAAAAAAA8D9mZmZmZmbmP83MzMzMzOw/zczMzMzM7D+amZmZmZnpPwAAAAAAAPg/4XoUrkfh6j8pXI/C9Sj4P7gehetRuO4/AAAAAAAA8D8K16NwPQrnP1K4HoXrUQJAZmZmZmZm5j8pXI/C9SjwP65H4XoUru8/AAAAAAAA4D/Xo3A9CtfzP+xRuB6F6wNAAAAAAAAA8D9SuB6F61HgP1K4HoXrUfA/zczMzMzM7D8AAAAAAADwPylcj8L1KPg/AAAAAAAA8D9I4XoUrkfxP9ejcD0K1+M/FK5H4XoUAEC4HoXrUbjuP83MzMzMzOw/AAAAAAAA8D9mZmZmZmbmP2ZmZmZmZuY/KVyPwvUo+D97FK5H4XrwP83MzMzMzOQ/AAAAAAAA+D8pXI/C9SjwPylcj8L1KPA/zczMzMzM7D+4HoXrUbjmP1K4HoXrUeA/UrgehetR8D+kcD0K16PwPwAAAAAAAPA/AAAAAAAA4D/NzMzMzMz4P9ejcD0K1/M/KVyPwvUo+D/hehSuR+HqP8P1KFyPwu0/KVyPwvUo8D+4HoXrUbjyPz0K16NwPeo/ZmZmZmZm5j8AAAAAAADwP3E9CtejcN0/XI/C9Shc7z/NzMzMzMz0PwAAAAAAAPA/9ihcj8L18D8pXI/C9SjwPwAAAAAAAABAFK5H4XoU3j9mZmZmZmbmP2ZmZmZmZu4/XI/C9Shc5z9mZmZmZmbmP7gehetRuN4/AAAAAAAA8D9cj8L1KFzzPwrXo3A9Cuc/uB6F61G45j8UrkfhehQAQFK4HoXrUfA/ZmZmZmZm7j8fhetRuB7tP0jhehSuR/E/MzMzMzMz0z8AAAAAAADwP1yPwvUoXPc/KVyPwvUo8D8AAAAAAADwPwAAAAAAAPA/uB6F61G45j9cj8L1KFznP2ZmZmZmZuY/PQrXo3A92j8pXI/C9SjwPwrXo3A9Cuc/4XoUrkfh6j/NzMzMzMwAQGZmZmZmZuY/uB6F61G45j8UrkfhehTyPylcj8L1KPA/hetRuB6F8z/NzMzMzMzcPylcj8L1KPg/AAAAAAAA8D+4HoXrUbjmPzMzMzMzM/M/zczMzMzM7D/sUbgehevhPwAAAAAAAPg/CtejcD0K5z8pXI/C9SjwP83MzMzMzOw/pHA9Ctej4D97FK5H4XrkP83MzMzMzOw/w/UoXI/CAUAzMzMzMzPzP65H4XoUruc/AAAAAAAA8D9xPQrXo3DdPwAAAAAAAPg/ZmZmZmZm5j8zMzMzMzPjP1yPwvUoXOc/KVyPwvUo8D8pXI/C9Sj0P2ZmZmZmZuY/zczMzMzM3D/hehSuR+EIQLgehetRuO4/AAAAAAAA8D8pXI/C9SjwP2ZmZmZmZvI/AAAAAAAA8D8=",
          "dtype": "f8"
         },
         "xaxis": "x",
         "y": {
          "bdata": "Mg5ICXoUHAZNCQ8PaRd/GFIJ/QcPCKAaYAsWCMoILQTxNCYJSQwZBaQE6RhlCEYMCweSPU0JhAsvDHcIqBvZAgAHhBw2FYAHMRLVBgYJBwtgCZQUNwlTJeMM7h4/CwsyvAM2FW0HXQV7HJEYlAupBC4R5A77CqokLw62EigJQjgQB3ILORLgDJsHqRbKDXsGbB/aDdAMlAsiB60GbhH1B2ALqgPpJ9oPMDveCh4NHQ9tEhYLLQgIDOoDjAdwFWASsAv9DoAfPQMOCf8KLwl3COIDUA/9GFMIhQxJMUcTOA3oDqQbsQMQEVsWXwzrDuAcPwpkB8sHQQQbFAIJdwjFGSwIQAhXEj4XYRI4BBQcfQ+7CuYSyw7JBmASBwePEpENOQeDBQwMpBn5CsgPyRZXA9YWUAlXBQIIpxBmE/YJGgNfJjMLYw3tCoIZwQw=",
          "dtype": "i2"
         },
         "yaxis": "y"
        }
       ],
       "layout": {
        "legend": {
         "itemsizing": "constant",
         "title": {
          "text": "cut"
         },
         "tracegroupgap": 0
        },
        "margin": {
         "t": 60
        },
        "template": {
         "data": {
          "bar": [
           {
            "error_x": {
             "color": "#2a3f5f"
            },
            "error_y": {
             "color": "#2a3f5f"
            },
            "marker": {
             "line": {
              "color": "#E5ECF6",
              "width": 0.5
             },
             "pattern": {
              "fillmode": "overlay",
              "size": 10,
              "solidity": 0.2
             }
            },
            "type": "bar"
           }
          ],
          "barpolar": [
           {
            "marker": {
             "line": {
              "color": "#E5ECF6",
              "width": 0.5
             },
             "pattern": {
              "fillmode": "overlay",
              "size": 10,
              "solidity": 0.2
             }
            },
            "type": "barpolar"
           }
          ],
          "carpet": [
           {
            "aaxis": {
             "endlinecolor": "#2a3f5f",
             "gridcolor": "white",
             "linecolor": "white",
             "minorgridcolor": "white",
             "startlinecolor": "#2a3f5f"
            },
            "baxis": {
             "endlinecolor": "#2a3f5f",
             "gridcolor": "white",
             "linecolor": "white",
             "minorgridcolor": "white",
             "startlinecolor": "#2a3f5f"
            },
            "type": "carpet"
           }
          ],
          "choropleth": [
           {
            "colorbar": {
             "outlinewidth": 0,
             "ticks": ""
            },
            "type": "choropleth"
           }
          ],
          "contour": [
           {
            "colorbar": {
             "outlinewidth": 0,
             "ticks": ""
            },
            "colorscale": [
             [
              0,
              "#0d0887"
             ],
             [
              0.1111111111111111,
              "#46039f"
             ],
             [
              0.2222222222222222,
              "#7201a8"
             ],
             [
              0.3333333333333333,
              "#9c179e"
             ],
             [
              0.4444444444444444,
              "#bd3786"
             ],
             [
              0.5555555555555556,
              "#d8576b"
             ],
             [
              0.6666666666666666,
              "#ed7953"
             ],
             [
              0.7777777777777778,
              "#fb9f3a"
             ],
             [
              0.8888888888888888,
              "#fdca26"
             ],
             [
              1,
              "#f0f921"
             ]
            ],
            "type": "contour"
           }
          ],
          "contourcarpet": [
           {
            "colorbar": {
             "outlinewidth": 0,
             "ticks": ""
            },
            "type": "contourcarpet"
           }
          ],
          "heatmap": [
           {
            "colorbar": {
             "outlinewidth": 0,
             "ticks": ""
            },
            "colorscale": [
             [
              0,
              "#0d0887"
             ],
             [
              0.1111111111111111,
              "#46039f"
             ],
             [
              0.2222222222222222,
              "#7201a8"
             ],
             [
              0.3333333333333333,
              "#9c179e"
             ],
             [
              0.4444444444444444,
              "#bd3786"
             ],
             [
              0.5555555555555556,
              "#d8576b"
             ],
             [
              0.6666666666666666,
              "#ed7953"
             ],
             [
              0.7777777777777778,
              "#fb9f3a"
             ],
             [
              0.8888888888888888,
              "#fdca26"
             ],
             [
              1,
              "#f0f921"
             ]
            ],
            "type": "heatmap"
           }
          ],
          "histogram": [
           {
            "marker": {
             "pattern": {
              "fillmode": "overlay",
              "size": 10,
              "solidity": 0.2
             }
            },
            "type": "histogram"
           }
          ],
          "histogram2d": [
           {
            "colorbar": {
             "outlinewidth": 0,
             "ticks": ""
            },
            "colorscale": [
             [
              0,
              "#0d0887"
             ],
             [
              0.1111111111111111,
              "#46039f"
             ],
             [
              0.2222222222222222,
              "#7201a8"
             ],
             [
              0.3333333333333333,
              "#9c179e"
             ],
             [
              0.4444444444444444,
              "#bd3786"
             ],
             [
              0.5555555555555556,
              "#d8576b"
             ],
             [
              0.6666666666666666,
              "#ed7953"
             ],
             [
              0.7777777777777778,
              "#fb9f3a"
             ],
             [
              0.8888888888888888,
              "#fdca26"
             ],
             [
              1,
              "#f0f921"
             ]
            ],
            "type": "histogram2d"
           }
          ],
          "histogram2dcontour": [
           {
            "colorbar": {
             "outlinewidth": 0,
             "ticks": ""
            },
            "colorscale": [
             [
              0,
              "#0d0887"
             ],
             [
              0.1111111111111111,
              "#46039f"
             ],
             [
              0.2222222222222222,
              "#7201a8"
             ],
             [
              0.3333333333333333,
              "#9c179e"
             ],
             [
              0.4444444444444444,
              "#bd3786"
             ],
             [
              0.5555555555555556,
              "#d8576b"
             ],
             [
              0.6666666666666666,
              "#ed7953"
             ],
             [
              0.7777777777777778,
              "#fb9f3a"
             ],
             [
              0.8888888888888888,
              "#fdca26"
             ],
             [
              1,
              "#f0f921"
             ]
            ],
            "type": "histogram2dcontour"
           }
          ],
          "mesh3d": [
           {
            "colorbar": {
             "outlinewidth": 0,
             "ticks": ""
            },
            "type": "mesh3d"
           }
          ],
          "parcoords": [
           {
            "line": {
             "colorbar": {
              "outlinewidth": 0,
              "ticks": ""
             }
            },
            "type": "parcoords"
           }
          ],
          "pie": [
           {
            "automargin": true,
            "type": "pie"
           }
          ],
          "scatter": [
           {
            "fillpattern": {
             "fillmode": "overlay",
             "size": 10,
             "solidity": 0.2
            },
            "type": "scatter"
           }
          ],
          "scatter3d": [
           {
            "line": {
             "colorbar": {
              "outlinewidth": 0,
              "ticks": ""
             }
            },
            "marker": {
             "colorbar": {
              "outlinewidth": 0,
              "ticks": ""
             }
            },
            "type": "scatter3d"
           }
          ],
          "scattercarpet": [
           {
            "marker": {
             "colorbar": {
              "outlinewidth": 0,
              "ticks": ""
             }
            },
            "type": "scattercarpet"
           }
          ],
          "scattergeo": [
           {
            "marker": {
             "colorbar": {
              "outlinewidth": 0,
              "ticks": ""
             }
            },
            "type": "scattergeo"
           }
          ],
          "scattergl": [
           {
            "marker": {
             "colorbar": {
              "outlinewidth": 0,
              "ticks": ""
             }
            },
            "type": "scattergl"
           }
          ],
          "scattermap": [
           {
            "marker": {
             "colorbar": {
              "outlinewidth": 0,
              "ticks": ""
             }
            },
            "type": "scattermap"
           }
          ],
          "scattermapbox": [
           {
            "marker": {
             "colorbar": {
              "outlinewidth": 0,
              "ticks": ""
             }
            },
            "type": "scattermapbox"
           }
          ],
          "scatterpolar": [
           {
            "marker": {
             "colorbar": {
              "outlinewidth": 0,
              "ticks": ""
             }
            },
            "type": "scatterpolar"
           }
          ],
          "scatterpolargl": [
           {
            "marker": {
             "colorbar": {
              "outlinewidth": 0,
              "ticks": ""
             }
            },
            "type": "scatterpolargl"
           }
          ],
          "scatterternary": [
           {
            "marker": {
             "colorbar": {
              "outlinewidth": 0,
              "ticks": ""
             }
            },
            "type": "scatterternary"
           }
          ],
          "surface": [
           {
            "colorbar": {
             "outlinewidth": 0,
             "ticks": ""
            },
            "colorscale": [
             [
              0,
              "#0d0887"
             ],
             [
              0.1111111111111111,
              "#46039f"
             ],
             [
              0.2222222222222222,
              "#7201a8"
             ],
             [
              0.3333333333333333,
              "#9c179e"
             ],
             [
              0.4444444444444444,
              "#bd3786"
             ],
             [
              0.5555555555555556,
              "#d8576b"
             ],
             [
              0.6666666666666666,
              "#ed7953"
             ],
             [
              0.7777777777777778,
              "#fb9f3a"
             ],
             [
              0.8888888888888888,
              "#fdca26"
             ],
             [
              1,
              "#f0f921"
             ]
            ],
            "type": "surface"
           }
          ],
          "table": [
           {
            "cells": {
             "fill": {
              "color": "#EBF0F8"
             },
             "line": {
              "color": "white"
             }
            },
            "header": {
             "fill": {
              "color": "#C8D4E3"
             },
             "line": {
              "color": "white"
             }
            },
            "type": "table"
           }
          ]
         },
         "layout": {
          "annotationdefaults": {
           "arrowcolor": "#2a3f5f",
           "arrowhead": 0,
           "arrowwidth": 1
          },
          "autotypenumbers": "strict",
          "coloraxis": {
           "colorbar": {
            "outlinewidth": 0,
            "ticks": ""
           }
          },
          "colorscale": {
           "diverging": [
            [
             0,
             "#8e0152"
            ],
            [
             0.1,
             "#c51b7d"
            ],
            [
             0.2,
             "#de77ae"
            ],
            [
             0.3,
             "#f1b6da"
            ],
            [
             0.4,
             "#fde0ef"
            ],
            [
             0.5,
             "#f7f7f7"
            ],
            [
             0.6,
             "#e6f5d0"
            ],
            [
             0.7,
             "#b8e186"
            ],
            [
             0.8,
             "#7fbc41"
            ],
            [
             0.9,
             "#4d9221"
            ],
            [
             1,
             "#276419"
            ]
           ],
           "sequential": [
            [
             0,
             "#0d0887"
            ],
            [
             0.1111111111111111,
             "#46039f"
            ],
            [
             0.2222222222222222,
             "#7201a8"
            ],
            [
             0.3333333333333333,
             "#9c179e"
            ],
            [
             0.4444444444444444,
             "#bd3786"
            ],
            [
             0.5555555555555556,
             "#d8576b"
            ],
            [
             0.6666666666666666,
             "#ed7953"
            ],
            [
             0.7777777777777778,
             "#fb9f3a"
            ],
            [
             0.8888888888888888,
             "#fdca26"
            ],
            [
             1,
             "#f0f921"
            ]
           ],
           "sequentialminus": [
            [
             0,
             "#0d0887"
            ],
            [
             0.1111111111111111,
             "#46039f"
            ],
            [
             0.2222222222222222,
             "#7201a8"
            ],
            [
             0.3333333333333333,
             "#9c179e"
            ],
            [
             0.4444444444444444,
             "#bd3786"
            ],
            [
             0.5555555555555556,
             "#d8576b"
            ],
            [
             0.6666666666666666,
             "#ed7953"
            ],
            [
             0.7777777777777778,
             "#fb9f3a"
            ],
            [
             0.8888888888888888,
             "#fdca26"
            ],
            [
             1,
             "#f0f921"
            ]
           ]
          },
          "colorway": [
           "#636efa",
           "#EF553B",
           "#00cc96",
           "#ab63fa",
           "#FFA15A",
           "#19d3f3",
           "#FF6692",
           "#B6E880",
           "#FF97FF",
           "#FECB52"
          ],
          "font": {
           "color": "#2a3f5f"
          },
          "geo": {
           "bgcolor": "white",
           "lakecolor": "white",
           "landcolor": "#E5ECF6",
           "showlakes": true,
           "showland": true,
           "subunitcolor": "white"
          },
          "hoverlabel": {
           "align": "left"
          },
          "hovermode": "closest",
          "mapbox": {
           "style": "light"
          },
          "paper_bgcolor": "white",
          "plot_bgcolor": "#E5ECF6",
          "polar": {
           "angularaxis": {
            "gridcolor": "white",
            "linecolor": "white",
            "ticks": ""
           },
           "bgcolor": "#E5ECF6",
           "radialaxis": {
            "gridcolor": "white",
            "linecolor": "white",
            "ticks": ""
           }
          },
          "scene": {
           "xaxis": {
            "backgroundcolor": "#E5ECF6",
            "gridcolor": "white",
            "gridwidth": 2,
            "linecolor": "white",
            "showbackground": true,
            "ticks": "",
            "zerolinecolor": "white"
           },
           "yaxis": {
            "backgroundcolor": "#E5ECF6",
            "gridcolor": "white",
            "gridwidth": 2,
            "linecolor": "white",
            "showbackground": true,
            "ticks": "",
            "zerolinecolor": "white"
           },
           "zaxis": {
            "backgroundcolor": "#E5ECF6",
            "gridcolor": "white",
            "gridwidth": 2,
            "linecolor": "white",
            "showbackground": true,
            "ticks": "",
            "zerolinecolor": "white"
           }
          },
          "shapedefaults": {
           "line": {
            "color": "#2a3f5f"
           }
          },
          "ternary": {
           "aaxis": {
            "gridcolor": "white",
            "linecolor": "white",
            "ticks": ""
           },
           "baxis": {
            "gridcolor": "white",
            "linecolor": "white",
            "ticks": ""
           },
           "bgcolor": "#E5ECF6",
           "caxis": {
            "gridcolor": "white",
            "linecolor": "white",
            "ticks": ""
           }
          },
          "title": {
           "x": 0.05
          },
          "xaxis": {
           "automargin": true,
           "gridcolor": "white",
           "linecolor": "white",
           "ticks": "",
           "title": {
            "standoff": 15
           },
           "zerolinecolor": "white",
           "zerolinewidth": 2
          },
          "yaxis": {
           "automargin": true,
           "gridcolor": "white",
           "linecolor": "white",
           "ticks": "",
           "title": {
            "standoff": 15
           },
           "zerolinecolor": "white",
           "zerolinewidth": 2
          }
         }
        },
        "xaxis": {
         "anchor": "y",
         "domain": [
          0,
          1
         ],
         "title": {
          "text": "carat"
         }
        },
        "yaxis": {
         "anchor": "x",
         "domain": [
          0,
          1
         ],
         "title": {
          "text": "price"
         }
        }
       }
      }
     },
     "metadata": {},
     "output_type": "display_data"
    }
   ],
   "source": [
    "fig=px.scatter(data_sample, x='carat', y='price', color='cut', size='depth')\n",
    "fig.show()"
   ]
  }
 ],
 "metadata": {
  "kernelspec": {
   "display_name": "Python 3",
   "language": "python",
   "name": "python3"
  },
  "language_info": {
   "codemirror_mode": {
    "name": "ipython",
    "version": 3
   },
   "file_extension": ".py",
   "mimetype": "text/x-python",
   "name": "python",
   "nbconvert_exporter": "python",
   "pygments_lexer": "ipython3",
   "version": "3.10.0"
  }
 },
 "nbformat": 4,
 "nbformat_minor": 5
}
